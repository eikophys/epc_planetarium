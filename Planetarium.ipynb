{
  "nbformat": 4,
  "nbformat_minor": 0,
  "metadata": {
    "colab": {
      "name": "Planetarium.ipynb",
      "provenance": [],
      "collapsed_sections": [],
      "include_colab_link": true
    },
    "kernelspec": {
      "name": "python3",
      "display_name": "Python 3"
    }
  },
  "cells": [
    {
      "cell_type": "markdown",
      "metadata": {
        "id": "view-in-github",
        "colab_type": "text"
      },
      "source": [
        "<a href=\"https://colab.research.google.com/github/appare45/epc_planetarium/blob/master/Planetarium.ipynb\" target=\"_parent\"><img src=\"https://colab.research.google.com/assets/colab-badge.svg\" alt=\"Open In Colab\"/></a>"
      ]
    },
    {
      "cell_type": "code",
      "metadata": {
        "id": "U-45TX4X_1WM",
        "colab_type": "code",
        "colab": {}
      },
      "source": [
        "import requests, time\n",
        "\n",
        "tried = 0\n",
        "\n",
        "def request(parameter, end):\n",
        "  session = requests.Session()\n",
        "  readObj = session.get(url=end, params=parameter)\n",
        "  print('Requested : {}'.format(readObj.url))\n",
        "  return readObj.json()"
      ],
      "execution_count": null,
      "outputs": []
    },
    {
      "cell_type": "code",
      "metadata": {
        "id": "D6FmQfYNDsPf",
        "colab_type": "code",
        "colab": {
          "base_uri": "https://localhost:8080/",
          "height": 35
        },
        "outputId": "f9af2646-bbf8-415f-e975-f593231c4080"
      },
      "source": [
        "signParam = {    \n",
        "    \"action\" : 'parse',    \n",
        "    'pageid' : '2172595',   \n",
        "    'format' : 'json',    \n",
        "    'section' : '1'\n",
        "  }\n",
        "url = 'https://ja.wikipedia.org/w/api.php?'\n",
        "\n",
        "data = request(signParam, url)['parse']['text']['*']"
      ],
      "execution_count": null,
      "outputs": [
        {
          "output_type": "stream",
          "text": [
            "Requested : https://ja.wikipedia.org/w/api.php?action=parse&pageid=2172595&format=json&section=1\n"
          ],
          "name": "stdout"
        }
      ]
    },
    {
      "cell_type": "code",
      "metadata": {
        "id": "Cy2xmfr7CdSU",
        "colab_type": "code",
        "colab": {}
      },
      "source": [
        "import re\n",
        "pattern = 'title=\"([ぁ-ー]*)座\"'\n",
        "signsPatterned = re.findall(pattern, data)\n",
        "signs = []\n",
        "for i in signsPatterned:\n",
        "  signs.append({'name':i})"
      ],
      "execution_count": null,
      "outputs": []
    },
    {
      "cell_type": "code",
      "metadata": {
        "id": "AP1RWwKEGt5c",
        "colab_type": "code",
        "colab": {
          "base_uri": "https://localhost:8080/",
          "height": 235
        },
        "outputId": "4b39c298-15df-49de-d0b0-2fde0304bcb0"
      },
      "source": [
        "stars = []\n",
        "for i in range(10):\n",
        "  starParam = {\n",
        "      'action' : 'query',\n",
        "      'list' : 'categorymembers',\n",
        "      'cmtitle' : 'Category:{}等星'.format(i+1),\n",
        "      'format' : 'json'\n",
        "  }\n",
        "  starData = request(starParam, url)\n",
        "  for j in starData['query']['categorymembers']:\n",
        "    stars.append({\n",
        "        'name' : j['title'],\n",
        "        'wikiId' : j['pageid']\n",
        "    })\n",
        "    \n",
        "\n",
        "print(stars)\n",
        "#  /w/api.php?action=query&format=json&list=categorymembers&utf8=1&cmtitle=Category%3A1%E7%AD%89%E6%98%9F"
      ],
      "execution_count": null,
      "outputs": [
        {
          "output_type": "stream",
          "text": [
            "Requested : https://ja.wikipedia.org/w/api.php?action=query&list=categorymembers&cmtitle=Category%3A1%E7%AD%89%E6%98%9F&format=json\n",
            "Requested : https://ja.wikipedia.org/w/api.php?action=query&list=categorymembers&cmtitle=Category%3A2%E7%AD%89%E6%98%9F&format=json\n",
            "Requested : https://ja.wikipedia.org/w/api.php?action=query&list=categorymembers&cmtitle=Category%3A3%E7%AD%89%E6%98%9F&format=json\n",
            "Requested : https://ja.wikipedia.org/w/api.php?action=query&list=categorymembers&cmtitle=Category%3A4%E7%AD%89%E6%98%9F&format=json\n",
            "Requested : https://ja.wikipedia.org/w/api.php?action=query&list=categorymembers&cmtitle=Category%3A5%E7%AD%89%E6%98%9F&format=json\n",
            "Requested : https://ja.wikipedia.org/w/api.php?action=query&list=categorymembers&cmtitle=Category%3A6%E7%AD%89%E6%98%9F&format=json\n",
            "Requested : https://ja.wikipedia.org/w/api.php?action=query&list=categorymembers&cmtitle=Category%3A7%E7%AD%89%E6%98%9F&format=json\n",
            "Requested : https://ja.wikipedia.org/w/api.php?action=query&list=categorymembers&cmtitle=Category%3A8%E7%AD%89%E6%98%9F&format=json\n",
            "Requested : https://ja.wikipedia.org/w/api.php?action=query&list=categorymembers&cmtitle=Category%3A9%E7%AD%89%E6%98%9F&format=json\n",
            "Requested : https://ja.wikipedia.org/w/api.php?action=query&list=categorymembers&cmtitle=Category%3A10%E7%AD%89%E6%98%9F&format=json\n",
            "[{'name': 'Template:1等星', 'wikiId': 1963195}, {'name': 'アークトゥルス', 'wikiId': 163072}, {'name': 'アケルナル', 'wikiId': 163974}, {'name': 'アルタイル', 'wikiId': 98668}, {'name': 'アルデバラン', 'wikiId': 185028}, {'name': 'アンタレス', 'wikiId': 150014}, {'name': 'カノープス', 'wikiId': 6578}, {'name': 'カペラ (恒星)', 'wikiId': 147135}, {'name': 'ケンタウルス座アルファ星', 'wikiId': 608638}, {'name': 'ケンタウルス座ベータ星', 'wikiId': 123955}, {'name': 'アルゴル', 'wikiId': 194746}, {'name': 'アルファルド', 'wikiId': 124152}, {'name': 'アンドロメダ座アルファ星', 'wikiId': 1076452}, {'name': 'アンドロメダ座ガンマ星', 'wikiId': 1171681}, {'name': 'アンドロメダ座ベータ星', 'wikiId': 1093216}, {'name': 'いて座イプシロン星', 'wikiId': 1093284}, {'name': 'いて座シグマ星', 'wikiId': 180645}, {'name': 'うしかい座イプシロン星', 'wikiId': 1186733}, {'name': 'おうし座ベータ星', 'wikiId': 391955}, {'name': 'おおいぬ座イータ星', 'wikiId': 188965}, {'name': '3等星の一覧', 'wikiId': 3007931}, {'name': 'アルビレオ', 'wikiId': 263617}, {'name': 'アンドロメダ座デルタ星', 'wikiId': 2143574}, {'name': 'いて座イータ星', 'wikiId': 3630730}, {'name': 'いて座ガンマ2星', 'wikiId': 3523464}, {'name': 'いて座ゼータ星', 'wikiId': 2139263}, {'name': 'いて座タウ星', 'wikiId': 3523303}, {'name': 'いて座デルタ星', 'wikiId': 2139269}, {'name': 'いて座パイ星', 'wikiId': 2139278}, {'name': 'いて座ファイ星', 'wikiId': 3644643}]\n"
          ],
          "name": "stdout"
        }
      ]
    },
    {
      "cell_type": "markdown",
      "metadata": {
        "id": "h6rKO2vjJO4D",
        "colab_type": "text"
      },
      "source": [
        "Astropyのインストール"
      ]
    }
  ]
}